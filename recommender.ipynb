{
 "cells": [
  {
   "cell_type": "code",
   "execution_count": 45,
   "metadata": {},
   "outputs": [],
   "source": [
    "# Import Libraries\n",
    "import pandas as pd\n",
    "import numpy as np\n",
    "from surprise import SVD, Dataset, Reader\n",
    "from sklearn.preprocessing import MultiLabelBinarizer"
   ]
  },
  {
   "cell_type": "code",
   "execution_count": 46,
   "metadata": {},
   "outputs": [],
   "source": [
    "# Load the Datasets\n",
    "movies = pd.read_csv('movies.csv')\n",
    "# Rows limited due to training size\n",
    "ratings = pd.read_csv('ratings.csv', nrows=10000000)"
   ]
  },
  {
   "cell_type": "code",
   "execution_count": 47,
   "metadata": {},
   "outputs": [],
   "source": [
    "# Preprocess the Movies Data\n",
    "movies['genres'] = movies['genres'].apply(lambda x: x.split('|') if x != '(no genres listed)' else [])\n"
   ]
  },
  {
   "cell_type": "code",
   "execution_count": 48,
   "metadata": {},
   "outputs": [],
   "source": [
    "# One-Hot Encode Genres\n",
    "mlb = MultiLabelBinarizer()\n",
    "genre_dummies = pd.DataFrame(mlb.fit_transform(movies['genres']), columns=mlb.classes_, index=movies.index)\n",
    "movies = pd.concat([movies, genre_dummies], axis=1)\n"
   ]
  },
  {
   "cell_type": "code",
   "execution_count": 49,
   "metadata": {},
   "outputs": [],
   "source": [
    "# Calculate Number of Ratings and Average Rating per Movie\n",
    "movie_stats = ratings.groupby('movieId').agg(\n",
    "    num_ratings=('rating', 'count'),\n",
    "    avg_rating=('rating', 'mean')\n",
    ").reset_index()"
   ]
  },
  {
   "cell_type": "code",
   "execution_count": 50,
   "metadata": {},
   "outputs": [],
   "source": [
    "# Merge with Movies Data\n",
    "movies = pd.merge(movies, movie_stats, on='movieId', how='left')\n"
   ]
  },
  {
   "cell_type": "code",
   "execution_count": 51,
   "metadata": {},
   "outputs": [],
   "source": [
    "# Fill NaN Values with 0\n",
    "movies[['num_ratings', 'avg_rating']] = movies[['num_ratings', 'avg_rating']].fillna(0)\n"
   ]
  },
  {
   "cell_type": "code",
   "execution_count": 52,
   "metadata": {},
   "outputs": [],
   "source": [
    "# Calculate Weighted Rating Using IMDb Formula\n",
    "C = movies['avg_rating'].mean()\n",
    "m = movies['num_ratings'].quantile(0.75)\n",
    "\n",
    "def weighted_rating(x, m=m, C=C):\n",
    "    v = x['num_ratings']\n",
    "    R = x['avg_rating']\n",
    "    return (v / (v + m) * R) + (m / (v + m) * C)\n",
    "\n",
    "movies['weighted_rating'] = movies.apply(weighted_rating, axis=1)\n"
   ]
  },
  {
   "cell_type": "code",
   "execution_count": 53,
   "metadata": {},
   "outputs": [],
   "source": [
    "# Prepare Data for Surprise\n",
    "ratings['userId'] = ratings['userId'].astype(str)\n",
    "ratings['movieId'] = ratings['movieId'].astype(str)"
   ]
  },
  {
   "cell_type": "code",
   "execution_count": 54,
   "metadata": {},
   "outputs": [],
   "source": [
    "# Prepare Data for Surprise\n",
    "reader = Reader(rating_scale=(1, 5))\n",
    "data = Dataset.load_from_df(ratings[['userId', 'movieId', 'rating']], reader)"
   ]
  },
  {
   "cell_type": "code",
   "execution_count": 55,
   "metadata": {},
   "outputs": [
    {
     "data": {
      "text/plain": [
       "<surprise.prediction_algorithms.matrix_factorization.SVD at 0x165858eb140>"
      ]
     },
     "execution_count": 55,
     "metadata": {},
     "output_type": "execute_result"
    }
   ],
   "source": [
    "# Build the Trainset\n",
    "trainset = data.build_full_trainset()\n",
    "\n",
    "# Build and Train the SVD Model\n",
    "model = SVD()\n",
    "model.fit(trainset)"
   ]
  },
  {
   "cell_type": "code",
   "execution_count": 56,
   "metadata": {},
   "outputs": [],
   "source": [
    "# Create a Utility Matrix for Content-Based Filtering\n",
    "genre_features = movies[mlb.classes_]\n",
    "genre_features = genre_features.astype(int)"
   ]
  },
  {
   "cell_type": "code",
   "execution_count": 57,
   "metadata": {},
   "outputs": [],
   "source": [
    "# Function to Recommend Movies Without Retraining the Model\n",
    "def recommend_movies(user_ratings, preferred_genres, top_n=5):\n",
    "    # Get IDs of movies the user has rated\n",
    "    rated_movie_ids = [movie['movieId'] for movie in user_ratings]\n",
    "    \n",
    "    # Get unrated movies\n",
    "    unrated_movies = movies[~movies['movieId'].isin(rated_movie_ids)]\n",
    "    \n",
    "    # Filter movies by preferred genres\n",
    "    if preferred_genres:\n",
    "        genre_filter = unrated_movies[preferred_genres].any(axis=1)\n",
    "        candidate_movies = unrated_movies[genre_filter]\n",
    "    else:\n",
    "        candidate_movies = unrated_movies.copy()\n",
    "    \n",
    "    # Predict ratings for candidate movies\n",
    "    candidate_movie_ids = candidate_movies['movieId'].tolist()\n",
    "    predictions = []\n",
    "    for mid in candidate_movie_ids:\n",
    "        # Since the user is new, we cannot use the collaborative filtering prediction directly\n",
    "        # We'll use the movie's average rating as a baseline\n",
    "        wr = candidate_movies.loc[candidate_movies['movieId'] == mid, 'weighted_rating'].values[0]\n",
    "        predictions.append((mid, wr))\n",
    "    \n",
    "    # Adjust predictions based on content similarity\n",
    "    # Build a profile for the user based on their rated movies\n",
    "    user_genre_matrix = movies[movies['movieId'].isin(rated_movie_ids)][mlb.classes_]\n",
    "    user_profile = user_genre_matrix.mean(axis=0)\n",
    "    \n",
    "    # Calculate similarity between user profile and candidate movies\n",
    "    candidate_genre_matrix = candidate_movies[mlb.classes_]\n",
    "    similarities = cosine_similarity([user_profile], candidate_genre_matrix)[0]\n",
    "    \n",
    "    # Combine weighted ratings and similarities\n",
    "    final_scores = []\n",
    "    for idx, (mid, wr) in enumerate(predictions):\n",
    "        similarity = similarities[idx]\n",
    "        final_score = (wr * 0.7) + (similarity * 0.3)\n",
    "        final_scores.append((mid, final_score))\n",
    "    \n",
    "    # Get top N recommendations\n",
    "    final_scores.sort(key=lambda x: x[1], reverse=True)\n",
    "    top_recommendations = final_scores[:top_n]\n",
    "    recommended_movie_ids = [mid for (mid, _) in top_recommendations]\n",
    "    recommended_movies = movies[movies['movieId'].isin(recommended_movie_ids)]\n",
    "    \n",
    "    return recommended_movies[['title', 'genres', 'weighted_rating']]\n",
    "\n",
    "# User Input: Movies You've Seen and Your Ratings\n",
    "all_titles = movies['title'].tolist()"
   ]
  },
  {
   "cell_type": "code",
   "execution_count": 62,
   "metadata": {},
   "outputs": [
    {
     "name": "stdout",
     "output_type": "stream",
     "text": [
      "Please input movies you've seen and your rating for each (1-5). Type 'done' when finished.\n",
      "\n",
      "\n",
      "Available Genres:\n",
      "Action, Adventure, Animation, Children, Comedy, Crime, Documentary, Drama, Fantasy, Film-Noir, Horror, IMAX, Musical, Mystery, Romance, Sci-Fi, Thriller, War, Western\n",
      "\n",
      "Top Movie Recommendations:\n",
      "Pulp Fiction (1994) (Comedy, Crime, Drama, Thriller) - Weighted Rating: 4.20\n",
      "Shawshank Redemption, The (1994) (Crime, Drama) - Weighted Rating: 4.41\n",
      "Matrix, The (1999) (Action, Sci-Fi, Thriller) - Weighted Rating: 4.16\n",
      "Band of Brothers (2001) (Action, Drama, War) - Weighted Rating: 4.39\n",
      "Parasite (2019) (Comedy, Drama) - Weighted Rating: 4.30\n"
     ]
    }
   ],
   "source": [
    "print(\"Please input movies you've seen and your rating for each (1-5). Type 'done' when finished.\\n\")\n",
    "\n",
    "user_ratings = []\n",
    "while True:\n",
    "    title = input(\"Movie Title: \")\n",
    "    if title.lower() == 'done':\n",
    "        break\n",
    "    if title not in all_titles:\n",
    "        print(\"Movie not found. Please try again.\")\n",
    "        continue\n",
    "    rating = input(\"Your Rating (1-5): \")\n",
    "    try:\n",
    "        rating = float(rating)\n",
    "        if rating < 1 or rating > 5:\n",
    "            print(\"Rating must be between 1 and 5.\")\n",
    "            continue\n",
    "    except ValueError:\n",
    "        print(\"Invalid rating. Please enter a number between 1 and 5.\")\n",
    "        continue\n",
    "    movie_id = movies[movies['title'] == title]['movieId'].values[0]\n",
    "    user_ratings.append({'movieId': movie_id, 'rating': rating})\n",
    "\n",
    "# User Input: Preferred Genres\n",
    "print(\"\\nAvailable Genres:\")\n",
    "print(\", \".join(mlb.classes_))\n",
    "\n",
    "preferred_genres = input(\"\\nEnter the genres you're interested in, separated by commas: \")\n",
    "preferred_genres = [genre.strip() for genre in preferred_genres.split(',')]\n",
    "\n",
    "# Validate Genres\n",
    "for genre in preferred_genres.copy():\n",
    "    if genre not in mlb.classes_:\n",
    "        print(f\"Genre '{genre}' not found. Please make sure you typed it correctly.\")\n",
    "        preferred_genres.remove(genre)\n",
    "\n",
    "# Generate Recommendations Without Retraining the Model\n",
    "recommended_movies = recommend_movies(user_ratings, preferred_genres, top_n=5)\n",
    "\n",
    "# Display Recommendations\n",
    "print(\"\\nTop Movie Recommendations:\")\n",
    "for idx, row in recommended_movies.iterrows():\n",
    "    print(f\"{row['title']} ({', '.join(row['genres'])}) - Weighted Rating: {row['weighted_rating']:.2f}\")"
   ]
  },
  {
   "cell_type": "code",
   "execution_count": 60,
   "metadata": {},
   "outputs": [
    {
     "name": "stdout",
     "output_type": "stream",
     "text": [
      "Performing cross-validation...\n",
      "Evaluating RMSE, MAE of algorithm SVD on 5 split(s).\n",
      "\n",
      "                  Fold 1  Fold 2  Fold 3  Fold 4  Fold 5  Mean    Std     \n",
      "RMSE (testset)    0.7834  0.7833  0.7839  0.7833  0.7822  0.7832  0.0006  \n",
      "MAE (testset)     0.5914  0.5910  0.5915  0.5910  0.5906  0.5911  0.0003  \n",
      "Fit time          104.18  106.29  114.48  99.64   112.40  107.40  5.42    \n",
      "Test time         39.07   38.46   34.43   41.13   32.20   37.06   3.26    \n",
      "\n",
      "Cross-Validation Results:\n",
      "Average RMSE: 0.7832\n",
      "Average MAE: 0.5911\n",
      "Average MSE: 0.6133\n"
     ]
    }
   ],
   "source": [
    "# Evaluation Code: Cross-Validation and Metrics\n",
    "\n",
    "from surprise import accuracy\n",
    "from surprise.model_selection import cross_validate, KFold\n",
    "\n",
    "# Prepare data for cross-validation\n",
    "data = Dataset.load_from_df(ratings[['userId', 'movieId', 'rating']], reader)\n",
    "\n",
    "# Use 5-fold cross-validation\n",
    "kf = KFold(n_splits=5, random_state=42, shuffle=True)\n",
    "\n",
    "# Initialize the SVD algorithm\n",
    "algo = SVD()\n",
    "\n",
    "# Perform cross-validation and collect results\n",
    "print(\"Performing cross-validation...\")\n",
    "\n",
    "cv_results = cross_validate(algo, data, measures=['RMSE', 'MAE'], cv=kf, verbose=True)\n",
    "\n",
    "# Calculate Mean Squared Error (MSE) manually\n",
    "mse_values = []\n",
    "\n",
    "for trainset, testset in kf.split(data):\n",
    "    # Train the algorithm on the trainset\n",
    "    algo.fit(trainset)\n",
    "    # Test the algorithm on the testset\n",
    "    predictions = algo.test(testset)\n",
    "    # Compute MSE\n",
    "    mse = accuracy.mse(predictions, verbose=False)\n",
    "    mse_values.append(mse)\n",
    "\n",
    "print(\"\\nCross-Validation Results:\")\n",
    "print(f\"Average RMSE: {np.mean(cv_results['test_rmse']):.4f}\")\n",
    "print(f\"Average MAE: {np.mean(cv_results['test_mae']):.4f}\")\n",
    "print(f\"Average MSE: {np.mean(mse_values):.4f}\")\n"
   ]
  }
 ],
 "metadata": {
  "language_info": {
   "name": "python"
  }
 },
 "nbformat": 4,
 "nbformat_minor": 2
}
