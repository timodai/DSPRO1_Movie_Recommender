{
 "cells": [
  {
   "cell_type": "markdown",
   "metadata": {},
   "source": [
    "### Import and Data Loading"
   ]
  },
  {
   "cell_type": "code",
   "execution_count": null,
   "metadata": {},
   "outputs": [],
   "source": [
    "# Import necessary libraries\n",
    "import pandas as pd\n",
    "import numpy as np\n",
    "from sklearn.metrics.pairwise import cosine_similarity\n",
    "import re\n"
   ]
  },
  {
   "cell_type": "code",
   "execution_count": null,
   "metadata": {},
   "outputs": [],
   "source": [
    "# Load the movies dataset\n",
    "movies = pd.read_csv('movies.csv')\n",
    "print(\"Movies dataset preview:\")\n"
   ]
  },
  {
   "cell_type": "code",
   "execution_count": null,
   "metadata": {},
   "outputs": [],
   "source": [
    "# Load the ratings dataset\n",
    "ratings = pd.read_csv('ratings.csv')\n",
    "print(\"Ratings dataset preview:\")\n"
   ]
  },
  {
   "cell_type": "markdown",
   "metadata": {},
   "source": [
    "### Data Preprocessing"
   ]
  },
  {
   "cell_type": "code",
   "execution_count": null,
   "metadata": {},
   "outputs": [],
   "source": [
    "# Extract release year from 'title'\n",
    "def extract_year(title):\n",
    "    year_match = re.search(r'\\((\\d{4})\\)', title)\n",
    "    if year_match:\n",
    "        return int(year_match.group(1))\n",
    "    else:\n",
    "        return np.nan\n",
    "\n",
    "movies['release_year'] = movies['title'].apply(extract_year)\n",
    "movies = movies.dropna(subset=['release_year'])\n",
    "movies['release_year'] = movies['release_year'].astype(int)\n"
   ]
  },
  {
   "cell_type": "code",
   "execution_count": null,
   "metadata": {},
   "outputs": [],
   "source": [
    "# Create 'is_new' feature based on release year (e.g., movies released in 2015 or later)\n",
    "movies['is_new'] = movies['release_year'].apply(lambda x: 1 if x >= 2015 else 0)\n"
   ]
  },
  {
   "cell_type": "code",
   "execution_count": null,
   "metadata": {},
   "outputs": [],
   "source": [
    "# Process genres (split by '|')\n",
    "movies['genres'] = movies['genres'].str.split('|')\n",
    "\n",
    "# Create a list of unique genres\n",
    "genre_list = set()\n",
    "for genres in movies['genres']:\n",
    "    genre_list.update(genres)\n",
    "genre_list = list(genre_list)\n"
   ]
  },
  {
   "cell_type": "code",
   "execution_count": null,
   "metadata": {},
   "outputs": [],
   "source": [
    "# One-hot encode genres\n",
    "for genre in genre_list:\n",
    "    movies[genre] = movies['genres'].apply(lambda x: int(genre in x))\n"
   ]
  },
  {
   "cell_type": "code",
   "execution_count": null,
   "metadata": {},
   "outputs": [],
   "source": [
    "# Merge movies and ratings data\n",
    "data = pd.merge(ratings, movies, on='movieId')\n",
    "\n",
    "# Create a mapping from movie titles to movieIds\n",
    "title_to_movieId = pd.Series(movies.movieId.values, index=movies.title).to_dict()\n"
   ]
  },
  {
   "cell_type": "markdown",
   "metadata": {},
   "source": [
    "### Building the Item Similarity Matrix"
   ]
  },
  {
   "cell_type": "code",
   "execution_count": null,
   "metadata": {},
   "outputs": [],
   "source": [
    "# Create a user-item rating matrix\n",
    "user_item_matrix = data.pivot_table(index='movieId', columns='userId', values='rating').fillna(0)\n"
   ]
  },
  {
   "cell_type": "code",
   "execution_count": null,
   "metadata": {},
   "outputs": [],
   "source": [
    "# Compute cosine similarity between movies\n",
    "item_similarity = cosine_similarity(user_item_matrix)\n",
    "item_similarity_df = pd.DataFrame(item_similarity, index=user_item_matrix.index, columns=user_item_matrix.index)\n"
   ]
  },
  {
   "cell_type": "markdown",
   "metadata": {},
   "source": [
    "### Recommendation System"
   ]
  },
  {
   "cell_type": "code",
   "execution_count": null,
   "metadata": {},
   "outputs": [],
   "source": [
    "def get_recommendations(movies_seen, preferred_genres=None, preferred_age='New', num_recommendations=10):\n",
    "    # Validate movies_seen\n",
    "    valid_movies = movies[movies['title'].isin(movies_seen)]\n",
    "    if valid_movies.empty:\n",
    "        print(\"None of the movies you entered were found in the dataset.\")\n",
    "        return pd.DataFrame()\n",
    "    \n",
    "    # Get the movieIds of the movies seen\n",
    "    movies_seen_ids = valid_movies['movieId'].values\n",
    "    print(f\"\\nMovies found in dataset: {valid_movies['title'].tolist()}\")\n",
    "    \n",
    "    # Calculate similarity scores for movies not seen\n",
    "    similarity_scores = item_similarity_df.loc[movies_seen_ids].mean(axis=0)\n",
    "    \n",
    "    # Create a DataFrame with similarity scores\n",
    "    similarity_df = pd.DataFrame({\n",
    "        'movieId': similarity_scores.index,\n",
    "        'similarity_score': similarity_scores.values\n",
    "    })\n",
    "    \n",
    "    # Exclude movies already seen\n",
    "    similarity_df = similarity_df[~similarity_df['movieId'].isin(movies_seen_ids)]\n",
    "    \n",
    "    # Merge with movies DataFrame\n",
    "    recommendations = pd.merge(similarity_df, movies.drop_duplicates('movieId'), on='movieId')\n",
    "    \n",
    "    # Filter based on preferred genres\n",
    "    if preferred_genres:\n",
    "        # Ensure genres are in the genre list\n",
    "        preferred_genres = [genre for genre in preferred_genres if genre in genre_list]\n",
    "        if not preferred_genres:\n",
    "            print(\"None of the preferred genres are available in the dataset.\")\n",
    "            return pd.DataFrame()\n",
    "        genre_filter = recommendations[preferred_genres].sum(axis=1) > 0\n",
    "        recommendations = recommendations[genre_filter]\n",
    "    \n",
    "    # Filter based on 'is_new' feature\n",
    "    if preferred_age == 'New':\n",
    "        recommendations = recommendations[recommendations['is_new'] == 1]\n",
    "    elif preferred_age == 'Old':\n",
    "        recommendations = recommendations[recommendations['is_new'] == 0]\n",
    "    \n",
    "    # Exclude movies already seen\n",
    "    recommendations = recommendations[~recommendations['movieId'].isin(movies_seen_ids)]\n",
    "    \n",
    "    # Sort by similarity score\n",
    "    recommendations = recommendations.sort_values(by='similarity_score', ascending=False)\n",
    "    \n",
    "    # Return top N recommendations\n",
    "    return recommendations[['title', 'genres', 'release_year', 'similarity_score']].head(num_recommendations)\n"
   ]
  },
  {
   "cell_type": "markdown",
   "metadata": {},
   "source": [
    "### User Input Placeholders"
   ]
  },
  {
   "cell_type": "code",
   "execution_count": null,
   "metadata": {},
   "outputs": [],
   "source": [
    "# Placeholder for movies the user has already seen\n",
    "# Replace the list below with the titles of movies you've seen\n",
    "movies_seen = [\n",
    "    'Toy Story (1995)',\n",
    "    'Jumanji (1995)'\n",
    "    # Add more movie titles as needed\n",
    "]\n",
    "\n",
    "# Validate movies_seen\n",
    "valid_movies = movies[movies['title'].isin(movies_seen)]\n",
    "if valid_movies.empty:\n",
    "    print(\"None of the movies you entered were found in the dataset.\")\n",
    "else:\n",
    "    print(f\"\\nMovies found in dataset: {valid_movies['title'].tolist()}\")\n"
   ]
  },
  {
   "cell_type": "code",
   "execution_count": null,
   "metadata": {},
   "outputs": [],
   "source": [
    "# Placeholder for preferred age of movies\n",
    "# Set to 'New' or 'Old'\n",
    "preferred_age = 'New'  # 'New' or 'Old'\n",
    "print(f\"\\nPreferred age of movies: {preferred_age}\")\n"
   ]
  },
  {
   "cell_type": "markdown",
   "metadata": {},
   "source": [
    "### Generating Recommendations"
   ]
  },
  {
   "cell_type": "code",
   "execution_count": null,
   "metadata": {},
   "outputs": [],
   "source": [
    "# Number of recommendations to generate\n",
    "num_recommendations = 10\n",
    "\n",
    "# Generate recommendations\n",
    "recommendations = get_recommendations(\n",
    "    movies_seen,\n",
    "    preferred_genres=preferred_genres,\n",
    "    preferred_age=preferred_age,\n",
    "    num_recommendations=num_recommendations\n",
    ")\n",
    "\n",
    "# Display the recommendations\n",
    "if recommendations.empty:\n",
    "    print(\"\\nNo recommendations could be generated based on the inputs provided.\")\n",
    "else:\n",
    "    print(f\"\\nTop {num_recommendations} movie recommendations based on your preferences:\")\n",
    "    display(recommendations)\n"
   ]
  },
  {
   "cell_type": "markdown",
   "metadata": {},
   "source": [
    "### Testing"
   ]
  },
  {
   "cell_type": "code",
   "execution_count": null,
   "metadata": {},
   "outputs": [],
   "source": [
    "# Display similarity scores for the top recommendations\n",
    "print(\"\\nSimilarity scores for the top recommendations:\")\n",
    "display(recommendations[['title', 'similarity_score']])\n"
   ]
  },
  {
   "cell_type": "code",
   "execution_count": null,
   "metadata": {},
   "outputs": [],
   "source": [
    "# Plot the distribution of similarity scores\n",
    "import matplotlib.pyplot as plt\n",
    "import seaborn as sns\n",
    "\n",
    "plt.figure(figsize=(10, 6))\n",
    "sns.histplot(recommendations['similarity_score'], bins=20, kde=True)\n",
    "plt.title('Distribution of Similarity Scores')\n",
    "plt.xlabel('Similarity Score')\n",
    "plt.ylabel('Frequency')\n",
    "plt.show()\n"
   ]
  },
  {
   "cell_type": "code",
   "execution_count": null,
   "metadata": {},
   "outputs": [],
   "source": [
    "# Evaluate the coverage of preferred genres in the recommendations\n",
    "genre_counts = recommendations[preferred_genres].sum()\n",
    "print(\"\\nGenre coverage in recommendations:\")\n",
    "print(genre_counts)\n"
   ]
  }
 ],
 "metadata": {
  "kernelspec": {
   "display_name": "dspro_project",
   "language": "python",
   "name": "python3"
  },
  "language_info": {
   "codemirror_mode": {
    "name": "ipython",
    "version": 3
   },
   "file_extension": ".py",
   "mimetype": "text/x-python",
   "name": "python",
   "nbconvert_exporter": "python",
   "pygments_lexer": "ipython3",
   "version": "3.12.3"
  }
 },
 "nbformat": 4,
 "nbformat_minor": 2
}
